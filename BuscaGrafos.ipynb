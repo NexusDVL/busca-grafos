{
  "nbformat": 4,
  "nbformat_minor": 0,
  "metadata": {
    "colab": {
      "provenance": [],
      "include_colab_link": true
    },
    "kernelspec": {
      "name": "python3",
      "display_name": "Python 3"
    },
    "language_info": {
      "name": "python"
    }
  },
  "cells": [
    {
      "cell_type": "markdown",
      "metadata": {
        "id": "view-in-github",
        "colab_type": "text"
      },
      "source": [
        "<a href=\"https://colab.research.google.com/github/NexusDVL/busca-grafos/blob/main/BuscaGrafos.ipynb\" target=\"_parent\"><img src=\"https://colab.research.google.com/assets/colab-badge.svg\" alt=\"Open In Colab\"/></a>"
      ]
    },
    {
      "cell_type": "markdown",
      "source": [
        "# **Gerar Grafo**"
      ],
      "metadata": {
        "id": "U9XFERJmKggk"
      }
    },
    {
      "cell_type": "code",
      "source": [
        "import networkx as nx\n",
        "import matplotlib.pyplot as plt"
      ],
      "metadata": {
        "id": "KSxisKUJGqoV"
      },
      "execution_count": 8,
      "outputs": []
    },
    {
      "cell_type": "markdown",
      "source": [
        "Função para criar um grafo de exemplo"
      ],
      "metadata": {
        "id": "1lb4CCNsNCY2"
      }
    },
    {
      "cell_type": "code",
      "source": [
        "def criar_grafo_exemplo():\n",
        "    G = nx.Graph()\n",
        "\n",
        "    # Adiciona nós\n",
        "    G.add_nodes_from([\"A\", \"B\", \"C\", \"D\", \"E\"])\n",
        "\n",
        "    # Adiciona arestas\n",
        "    G.add_edges_from([(\"A\", \"B\"), (\"B\", \"D\"), (\"B\", \"E\"), (\"E\", \"H\"), (\"A\", \"C\"), (\"C\", \"F\"), (\"C\", \"G\"), (\"A\", \"L\"), (\"B\", \"K\"), (\"C\", \"I\")])\n",
        "\n",
        "    return G"
      ],
      "metadata": {
        "id": "7nAAV27HMyYD"
      },
      "execution_count": 9,
      "outputs": []
    },
    {
      "cell_type": "markdown",
      "source": [
        "Função para desenhar o grafo"
      ],
      "metadata": {
        "id": "GPX09VWjNFex"
      }
    },
    {
      "cell_type": "code",
      "source": [
        "def desenhar_grafo(grafo):\n",
        "    pos = nx.spring_layout(grafo)  # Define a posição dos nós\n",
        "    nx.draw(grafo, pos, with_labels=True, font_weight='bold', node_size=700, node_color='skyblue', font_size=10)\n",
        "    plt.show()"
      ],
      "metadata": {
        "id": "-Yxd6vtWM5xP"
      },
      "execution_count": 10,
      "outputs": []
    },
    {
      "cell_type": "markdown",
      "source": [
        "Criar um grafo de exemplo"
      ],
      "metadata": {
        "id": "-UMeyoGGNJGM"
      }
    },
    {
      "cell_type": "code",
      "source": [
        "grafo_teste = criar_grafo_exemplo()"
      ],
      "metadata": {
        "id": "zrOd8qWPM7y-"
      },
      "execution_count": 11,
      "outputs": []
    },
    {
      "cell_type": "markdown",
      "source": [
        "Desenhar o grafo"
      ],
      "metadata": {
        "id": "KfnuLdg5NMeg"
      }
    },
    {
      "cell_type": "code",
      "source": [
        "desenhar_grafo(grafo_teste)"
      ],
      "metadata": {
        "colab": {
          "base_uri": "https://localhost:8080/",
          "height": 516
        },
        "id": "zQwcwrrIM9d6",
        "outputId": "2b8e028e-cb42-4943-cf8f-bd1aa8acd5e0"
      },
      "execution_count": 12,
      "outputs": [
        {
          "output_type": "display_data",
          "data": {
            "text/plain": [
              "<Figure size 640x480 with 1 Axes>"
            ],
            "image/png": "[encoded data removed]"
          },
          "metadata": {}
        }
      ]
    },
    {
      "cell_type": "markdown",
      "source": [
        "# **Algoritmo de Busca - \"Busca Cega\"**"
      ],
      "metadata": {
        "id": "mAsAgTe-NcU9"
      }
    },
    {
      "cell_type": "code",
      "source": [
        "from collections import deque"
      ],
      "metadata": {
        "id": "nXKUxTURJ3kV"
      },
      "execution_count": 13,
      "outputs": []
    },
    {
      "cell_type": "markdown",
      "source": [
        "Função para detectar o menor caminho à ser percorrido:"
      ],
      "metadata": {
        "id": "89sHJvigKdbL"
      }
    },
    {
      "cell_type": "code",
      "execution_count": 14,
      "metadata": {
        "id": "Yxv78LJJF2es"
      },
      "outputs": [],
      "source": [
        "def busca_largura(grafo, inicio, objetivo):\n",
        "    fila = deque([(inicio, [inicio])])\n",
        "    print(str(fila))\n",
        "\n",
        "    while fila:\n",
        "        (vertice, caminho) = fila.popleft()\n",
        "        print(\"vertice: \" + str(vertice))\n",
        "        print(\"caminho: \" + str(caminho))\n",
        "        for vizinho in grafo[vertice]:\n",
        "            print(\"vizinho: \" + str(vizinho))\n",
        "            if vizinho not in caminho:\n",
        "                if vizinho == objetivo:\n",
        "                    return caminho + [vizinho]\n",
        "                else:\n",
        "                    fila.append((vizinho, caminho + [vizinho]))\n",
        "\n",
        "\n",
        "\n"
      ]
    },
    {
      "cell_type": "code",
      "source": [
        "fila = deque([('A', ['A'])])\n",
        "print(str(fila))\n",
        "(vertice, caminho) = fila.popleft()\n",
        "print(str((vertice, caminho)))\n",
        "\n",
        "\n"
      ],
      "metadata": {
        "colab": {
          "base_uri": "https://localhost:8080/"
        },
        "id": "exVI9yFcLOJ8",
        "outputId": "caf2d64b-5dc3-4553-9ed8-828d02532bd4"
      },
      "execution_count": 15,
      "outputs": [
        {
          "output_type": "stream",
          "name": "stdout",
          "text": [
            "deque([('A', ['A'])])\n",
            "('A', ['A'])\n"
          ]
        }
      ]
    },
    {
      "cell_type": "markdown",
      "source": [
        "Chamar a função para poder encontrar o menor caminho para poder chegar até o objetivo esperado."
      ],
      "metadata": {
        "id": "d-hJ5lObKHv8"
      }
    },
    {
      "cell_type": "code",
      "source": [
        "resultado = busca_largura(grafo_teste, 'D', 'F')\n",
        "print(\"Caminho mais curto:\", resultado)"
      ],
      "metadata": {
        "colab": {
          "base_uri": "https://localhost:8080/"
        },
        "id": "i2kZMZkPKCtc",
        "outputId": "9dc12316-8b67-4193-d8f1-1fbdfb08ae15"
      },
      "execution_count": 16,
      "outputs": [
        {
          "output_type": "stream",
          "name": "stdout",
          "text": [
            "deque([('D', ['D'])])\n",
            "vertice: D\n",
            "caminho: ['D']\n",
            "vizinho: B\n",
            "vertice: B\n",
            "caminho: ['D', 'B']\n",
            "vizinho: A\n",
            "vizinho: D\n",
            "vizinho: E\n",
            "vizinho: K\n",
            "vertice: A\n",
            "caminho: ['D', 'B', 'A']\n",
            "vizinho: B\n",
            "vizinho: C\n",
            "vizinho: L\n",
            "vertice: E\n",
            "caminho: ['D', 'B', 'E']\n",
            "vizinho: B\n",
            "vizinho: H\n",
            "vertice: K\n",
            "caminho: ['D', 'B', 'K']\n",
            "vizinho: B\n",
            "vertice: C\n",
            "caminho: ['D', 'B', 'A', 'C']\n",
            "vizinho: A\n",
            "vizinho: F\n",
            "Caminho mais curto: ['D', 'B', 'A', 'C', 'F']\n"
          ]
        }
      ]
    }
  ]
}